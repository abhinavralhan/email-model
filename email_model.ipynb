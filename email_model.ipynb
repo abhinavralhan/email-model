{
 "cells": [
  {
   "cell_type": "code",
   "execution_count": 1,
   "id": "4b27a0b7-682b-4f9a-9a89-a0dba3623ee3",
   "metadata": {
    "tags": []
   },
   "outputs": [],
   "source": [
    "import random\n",
    "import string\n",
    "import hdbscan\n",
    "import numpy as np\n",
    "import pandas as pd\n",
    "from sgt import SGT\n",
    "from faker import Faker"
   ]
  },
  {
   "cell_type": "code",
   "execution_count": 18,
   "id": "ad6e4bfb-25fa-466e-8126-15864ca38d2a",
   "metadata": {
    "tags": []
   },
   "outputs": [],
   "source": [
    "fake = Faker()\n",
    "emails_list = []\n",
    "larry_emails = {}\n",
    "benny_emails = {}\n",
    "for i in range(100):\n",
    "    base_string = 'larry'\n",
    "    larry_emails[i] = base_string + str(i) + '@gmail.com'\n",
    "    base_string = 'benny'\n",
    "    benny_emails[i] = base_string + str(i) + '@gmail.com'\n",
    "    \n",
    "for i in range(1000):\n",
    "    emails_list.append(f\"{fake.first_name_female()}.{fake.last_name()}@{fake.domain_name()}\")\n",
    "    emails_list.append(f\"{fake.first_name_male()}.{fake.last_name()}@{fake.domain_name()}\")"
   ]
  },
  {
   "cell_type": "code",
   "execution_count": 19,
   "id": "c5b72094-d295-431b-819b-32866dd68c7d",
   "metadata": {
    "tags": []
   },
   "outputs": [],
   "source": [
    "emails = pd.DataFrame(emails_list, columns=['email'])\n",
    "emails = emails.reset_index()\n",
    "emails.columns=['id', 'email']\n",
    "\n",
    "larry_emails = pd.DataFrame(larry_emails, index=[1]).T\n",
    "larry_emails.columns=['email']\n",
    "larry_emails['id'] = 2050\n",
    "larry_emails = larry_emails.reset_index(drop=True)\n",
    "\n",
    "benny_emails = pd.DataFrame(benny_emails, index=[1]).T\n",
    "benny_emails.columns=['email']\n",
    "benny_emails['id'] = 2939\n",
    "benny_emails = benny_emails.reset_index(drop=True)"
   ]
  },
  {
   "cell_type": "code",
   "execution_count": 20,
   "id": "f6de782b-7dca-4cdd-956e-bc93bf05c9db",
   "metadata": {
    "tags": []
   },
   "outputs": [],
   "source": [
    "corpus = pd.concat([benny_emails, larry_emails])\n",
    "corpus = pd.concat([corpus, emails])\n",
    "corpus[['sequence', 'domain']] = corpus['email'].str.split('@', expand=True)\n",
    "corpus['sequence'] = corpus['sequence'].str.replace('[^a-zA-Z]+', '')\n",
    "corpus['sequence'] = corpus['sequence'].str.lower()\n",
    "corpus['sequence'] = corpus['sequence'].astype(str).map(list)\n",
    "corpus = corpus.reset_index(drop=True)"
   ]
  },
  {
   "cell_type": "code",
   "execution_count": 21,
   "id": "b6b1a980-9685-4f2f-9e61-ff0d05e151c4",
   "metadata": {
    "tags": []
   },
   "outputs": [],
   "source": [
    "sgt_ = SGT(kappa=5, lengthsensitive=True)\n",
    "embedding_df = sgt_.fit_transform(corpus[['id', 'sequence']])\n",
    "embedding_df = embedding_df.set_index('id')\n",
    "embedding_df = embedding_df.fillna(0)"
   ]
  },
  {
   "cell_type": "code",
   "execution_count": 22,
   "id": "bfc9d2f5-500c-43cf-ba08-b9361175cf94",
   "metadata": {
    "tags": []
   },
   "outputs": [],
   "source": [
    "clusterer = hdbscan.HDBSCAN(algorithm='best', alpha=1.0, approx_min_span_tree=True,\n",
    "                            gen_min_span_tree=False, leaf_size=40,\n",
    "                            metric='euclidean', min_cluster_size=15, min_samples=None, p=None)\n",
    "predictions = clusterer.fit_predict(embedding_df)\n",
    "cluster_map = pd.DataFrame()\n",
    "cluster_map['data_index'] = corpus.index.values\n",
    "cluster_map['cluster'] = predictions"
   ]
  },
  {
   "cell_type": "code",
   "execution_count": 23,
   "id": "21e15ced-19d4-45c9-aaa3-6aca062466dd",
   "metadata": {
    "tags": []
   },
   "outputs": [
    {
     "data": {
      "text/plain": [
       "cluster\n",
       "-1    1985\n",
       " 1     100\n",
       " 2     100\n",
       " 0      15\n",
       "Name: count, dtype: int64"
      ]
     },
     "execution_count": 23,
     "metadata": {},
     "output_type": "execute_result"
    }
   ],
   "source": [
    "cluster_map.cluster.value_counts()"
   ]
  },
  {
   "cell_type": "code",
   "execution_count": 25,
   "id": "0c9ceb79-4bcc-446b-a1fa-913f65259e3c",
   "metadata": {
    "tags": []
   },
   "outputs": [],
   "source": [
    "cluster_map = cluster_map.join(corpus)"
   ]
  },
  {
   "cell_type": "code",
   "execution_count": 42,
   "id": "e8ad707f-4c96-4d82-9d96-84936cb433c2",
   "metadata": {
    "tags": []
   },
   "outputs": [
    {
     "data": {
      "text/html": [
       "<div>\n",
       "<style scoped>\n",
       "    .dataframe tbody tr th:only-of-type {\n",
       "        vertical-align: middle;\n",
       "    }\n",
       "\n",
       "    .dataframe tbody tr th {\n",
       "        vertical-align: top;\n",
       "    }\n",
       "\n",
       "    .dataframe thead th {\n",
       "        text-align: right;\n",
       "    }\n",
       "</style>\n",
       "<table border=\"1\" class=\"dataframe\">\n",
       "  <thead>\n",
       "    <tr style=\"text-align: right;\">\n",
       "      <th></th>\n",
       "      <th>cluster</th>\n",
       "      <th>email</th>\n",
       "    </tr>\n",
       "  </thead>\n",
       "  <tbody>\n",
       "    <tr>\n",
       "      <th>959</th>\n",
       "      <td>0</td>\n",
       "      <td>Michael.Terry@henry-brown.com</td>\n",
       "    </tr>\n",
       "    <tr>\n",
       "      <th>2077</th>\n",
       "      <td>0</td>\n",
       "      <td>Michael.Cox@ward.com</td>\n",
       "    </tr>\n",
       "    <tr>\n",
       "      <th>1565</th>\n",
       "      <td>0</td>\n",
       "      <td>Michael.Wise@shah.com</td>\n",
       "    </tr>\n",
       "    <tr>\n",
       "      <th>674</th>\n",
       "      <td>0</td>\n",
       "      <td>Rachael.Chan@walters.org</td>\n",
       "    </tr>\n",
       "    <tr>\n",
       "      <th>1833</th>\n",
       "      <td>0</td>\n",
       "      <td>Michael.Heath@davis.com</td>\n",
       "    </tr>\n",
       "  </tbody>\n",
       "</table>\n",
       "</div>"
      ],
      "text/plain": [
       "      cluster                          email\n",
       "959         0  Michael.Terry@henry-brown.com\n",
       "2077        0           Michael.Cox@ward.com\n",
       "1565        0          Michael.Wise@shah.com\n",
       "674         0       Rachael.Chan@walters.org\n",
       "1833        0        Michael.Heath@davis.com"
      ]
     },
     "execution_count": 42,
     "metadata": {},
     "output_type": "execute_result"
    }
   ],
   "source": [
    "cluster_map[cluster_map.cluster == 0][['cluster', 'email']].sample(5)"
   ]
  },
  {
   "cell_type": "code",
   "execution_count": 38,
   "id": "e87c07bf-70a8-4093-ad97-36bf506ec749",
   "metadata": {
    "tags": []
   },
   "outputs": [
    {
     "data": {
      "text/html": [
       "<div>\n",
       "<style scoped>\n",
       "    .dataframe tbody tr th:only-of-type {\n",
       "        vertical-align: middle;\n",
       "    }\n",
       "\n",
       "    .dataframe tbody tr th {\n",
       "        vertical-align: top;\n",
       "    }\n",
       "\n",
       "    .dataframe thead th {\n",
       "        text-align: right;\n",
       "    }\n",
       "</style>\n",
       "<table border=\"1\" class=\"dataframe\">\n",
       "  <thead>\n",
       "    <tr style=\"text-align: right;\">\n",
       "      <th></th>\n",
       "      <th>cluster</th>\n",
       "      <th>email</th>\n",
       "    </tr>\n",
       "  </thead>\n",
       "  <tbody>\n",
       "    <tr>\n",
       "      <th>66</th>\n",
       "      <td>1</td>\n",
       "      <td>benny66@gmail.com</td>\n",
       "    </tr>\n",
       "    <tr>\n",
       "      <th>19</th>\n",
       "      <td>1</td>\n",
       "      <td>benny19@gmail.com</td>\n",
       "    </tr>\n",
       "    <tr>\n",
       "      <th>24</th>\n",
       "      <td>1</td>\n",
       "      <td>benny24@gmail.com</td>\n",
       "    </tr>\n",
       "    <tr>\n",
       "      <th>69</th>\n",
       "      <td>1</td>\n",
       "      <td>benny69@gmail.com</td>\n",
       "    </tr>\n",
       "    <tr>\n",
       "      <th>21</th>\n",
       "      <td>1</td>\n",
       "      <td>benny21@gmail.com</td>\n",
       "    </tr>\n",
       "  </tbody>\n",
       "</table>\n",
       "</div>"
      ],
      "text/plain": [
       "    cluster              email\n",
       "66        1  benny66@gmail.com\n",
       "19        1  benny19@gmail.com\n",
       "24        1  benny24@gmail.com\n",
       "69        1  benny69@gmail.com\n",
       "21        1  benny21@gmail.com"
      ]
     },
     "execution_count": 38,
     "metadata": {},
     "output_type": "execute_result"
    }
   ],
   "source": [
    "cluster_map[cluster_map.cluster == 1][['cluster', 'email']].sample(5)"
   ]
  },
  {
   "cell_type": "code",
   "execution_count": 39,
   "id": "3c06204f-4c87-411a-ae4e-3bbaab39d304",
   "metadata": {
    "tags": []
   },
   "outputs": [
    {
     "data": {
      "text/html": [
       "<div>\n",
       "<style scoped>\n",
       "    .dataframe tbody tr th:only-of-type {\n",
       "        vertical-align: middle;\n",
       "    }\n",
       "\n",
       "    .dataframe tbody tr th {\n",
       "        vertical-align: top;\n",
       "    }\n",
       "\n",
       "    .dataframe thead th {\n",
       "        text-align: right;\n",
       "    }\n",
       "</style>\n",
       "<table border=\"1\" class=\"dataframe\">\n",
       "  <thead>\n",
       "    <tr style=\"text-align: right;\">\n",
       "      <th></th>\n",
       "      <th>cluster</th>\n",
       "      <th>email</th>\n",
       "    </tr>\n",
       "  </thead>\n",
       "  <tbody>\n",
       "    <tr>\n",
       "      <th>110</th>\n",
       "      <td>2</td>\n",
       "      <td>larry10@gmail.com</td>\n",
       "    </tr>\n",
       "    <tr>\n",
       "      <th>167</th>\n",
       "      <td>2</td>\n",
       "      <td>larry67@gmail.com</td>\n",
       "    </tr>\n",
       "    <tr>\n",
       "      <th>188</th>\n",
       "      <td>2</td>\n",
       "      <td>larry88@gmail.com</td>\n",
       "    </tr>\n",
       "    <tr>\n",
       "      <th>140</th>\n",
       "      <td>2</td>\n",
       "      <td>larry40@gmail.com</td>\n",
       "    </tr>\n",
       "    <tr>\n",
       "      <th>152</th>\n",
       "      <td>2</td>\n",
       "      <td>larry52@gmail.com</td>\n",
       "    </tr>\n",
       "  </tbody>\n",
       "</table>\n",
       "</div>"
      ],
      "text/plain": [
       "     cluster              email\n",
       "110        2  larry10@gmail.com\n",
       "167        2  larry67@gmail.com\n",
       "188        2  larry88@gmail.com\n",
       "140        2  larry40@gmail.com\n",
       "152        2  larry52@gmail.com"
      ]
     },
     "execution_count": 39,
     "metadata": {},
     "output_type": "execute_result"
    }
   ],
   "source": [
    "cluster_map[cluster_map.cluster == 2][['cluster', 'email']].sample(5)"
   ]
  },
  {
   "cell_type": "code",
   "execution_count": 33,
   "id": "eb2bd0b0-bca7-45c7-bb45-496271e9375e",
   "metadata": {
    "tags": []
   },
   "outputs": [
    {
     "data": {
      "text/html": [
       "<div>\n",
       "<style scoped>\n",
       "    .dataframe tbody tr th:only-of-type {\n",
       "        vertical-align: middle;\n",
       "    }\n",
       "\n",
       "    .dataframe tbody tr th {\n",
       "        vertical-align: top;\n",
       "    }\n",
       "\n",
       "    .dataframe thead th {\n",
       "        text-align: right;\n",
       "    }\n",
       "</style>\n",
       "<table border=\"1\" class=\"dataframe\">\n",
       "  <thead>\n",
       "    <tr style=\"text-align: right;\">\n",
       "      <th></th>\n",
       "      <th>data_index</th>\n",
       "      <th>cluster</th>\n",
       "      <th>email</th>\n",
       "      <th>id</th>\n",
       "      <th>sequence</th>\n",
       "      <th>domain</th>\n",
       "    </tr>\n",
       "  </thead>\n",
       "  <tbody>\n",
       "  </tbody>\n",
       "</table>\n",
       "</div>"
      ],
      "text/plain": [
       "Empty DataFrame\n",
       "Columns: [data_index, cluster, email, id, sequence, domain]\n",
       "Index: []"
      ]
     },
     "execution_count": 33,
     "metadata": {},
     "output_type": "execute_result"
    }
   ],
   "source": [
    "cluster_map[cluster_map.cluster == 3]"
   ]
  },
  {
   "cell_type": "code",
   "execution_count": null,
   "id": "b0e3f58b-6a96-4c6b-b032-0eeb2501230b",
   "metadata": {},
   "outputs": [],
   "source": []
  }
 ],
 "metadata": {
  "kernelspec": {
   "display_name": "venv",
   "language": "python",
   "name": "venv"
  },
  "language_info": {
   "codemirror_mode": {
    "name": "ipython",
    "version": 3
   },
   "file_extension": ".py",
   "mimetype": "text/x-python",
   "name": "python",
   "nbconvert_exporter": "python",
   "pygments_lexer": "ipython3",
   "version": "3.9.18"
  }
 },
 "nbformat": 4,
 "nbformat_minor": 5
}
